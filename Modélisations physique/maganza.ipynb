{
 "cells": [
  {
   "attachments": {},
   "cell_type": "markdown",
   "metadata": {},
   "source": [
    "# Modélisation Maganza"
   ]
  },
  {
   "cell_type": "code",
   "execution_count": 6,
   "metadata": {},
   "outputs": [],
   "source": [
    "import numpy as np\n",
    "import matplotlib.pyplot as plt"
   ]
  },
  {
   "cell_type": "code",
   "execution_count": 7,
   "metadata": {},
   "outputs": [],
   "source": [
    "### Définition des paramètres\n",
    "\n",
    "rho = 1.292\n",
    "c = 340   #m/s\n",
    "L = 40e-2 #m\n",
    "T = 2*L/c \n",
    "f = 1/T  #il faudra suréchantillonner ? temps très court....\n",
    "\n",
    "Z0 = rho*c\n",
    "eps = 0.05\n",
    "\n",
    "t_max = 1  #s\n",
    "compute_time = np.arange(int(t_max/T))*int(t_max/T)"
   ]
  },
  {
   "attachments": {},
   "cell_type": "markdown",
   "metadata": {},
   "source": [
    "La section $S$ ne rentre pas en compte ? \n",
    "\n",
    "Ou alors dans les expressions de A,B et C de même que la pression de bouche $p_m$ et la pression de plaquage $p_M$."
   ]
  },
  {
   "cell_type": "code",
   "execution_count": 8,
   "metadata": {},
   "outputs": [],
   "source": [
    "### Définition des fonctions \n",
    "\n",
    "def F(p,A,B,C):\n",
    "    \"Relation de couplage : u = F(p)\"\n",
    "    return A*p+B*p**2+C*p**3\n",
    "\n",
    "def Fhat(x,A,B,C):\n",
    "    return -F(x,A,B,C)\n",
    "\n",
    "def Fcal(x,A,B,C,eps,Z0):\n",
    "    return Fhat(x,A,B,C)*(Z0-eps)/(Z0+eps)"
   ]
  },
  {
   "attachments": {},
   "cell_type": "markdown",
   "metadata": {},
   "source": [
    "Si $x=0$ la fonction $F$ renvoit 0... et donc à l'itération suivante le signal reste nul? "
   ]
  },
  {
   "cell_type": "code",
   "execution_count": 16,
   "metadata": {},
   "outputs": [
    {
     "name": "stderr",
     "output_type": "stream",
     "text": [
      "<ipython-input-8-3967a7c17234>:5: RuntimeWarning: overflow encountered in double_scalars\n",
      "  return A*p+B*p**2+C*p**3\n",
      "<ipython-input-16-63135a6e29ec>:15: RuntimeWarning: invalid value encountered in add\n",
      "  p = (Xmoins+Xplus)*2**(-1/2)\n"
     ]
    },
    {
     "data": {
      "text/plain": [
       "[<matplotlib.lines.Line2D at 0x25f9fe6bee0>]"
      ]
     },
     "execution_count": 16,
     "metadata": {},
     "output_type": "execute_result"
    },
    {
     "data": {
      "image/png": "[encoded data removed]",
      "text/plain": [
       "<Figure size 1080x360 with 1 Axes>"
      ]
     },
     "metadata": {
      "needs_background": "light"
     },
     "output_type": "display_data"
    }
   ],
   "source": [
    "### Initialisation\n",
    "N = len(compute_time)\n",
    "Xmoins = np.zeros(N)\n",
    "Xplus = np.zeros(N)\n",
    "\n",
    "A,B,C = 1,1,1\n",
    "\n",
    "Xmoins[0] = 1 #? dirac? \n",
    "Xplus[0] = Fhat(Xmoins[0],A,B,C)\n",
    "\n",
    "for i in range(1,N):\n",
    "    Xmoins[i] = -Fcal(Xmoins[i-1],A,B,C,eps,Z0)\n",
    "    Xplus[i] = Fhat(Xmoins[i],A,B,C)\n",
    "    \n",
    "p = (Xmoins+Xplus)/np.sqrt(2)\n",
    "f = (Xmoins-Xplus)/np.sqrt(2)/Z0\n",
    "\n",
    "plt.figure(figsize=(15,5))\n",
    "plt.plot(compute_time,Xmoins)\n",
    "plt.plot(compute_time,Xplus)\n",
    "plt.grid()"
   ]
  },
  {
   "cell_type": "code",
   "execution_count": null,
   "metadata": {},
   "outputs": [],
   "source": []
  }
 ],
 "metadata": {
  "kernelspec": {
   "display_name": "base",
   "language": "python",
   "name": "python3"
  },
  "language_info": {
   "codemirror_mode": {
    "name": "ipython",
    "version": 3
   },
   "file_extension": ".py",
   "mimetype": "text/x-python",
   "name": "python",
   "nbconvert_exporter": "python",
   "pygments_lexer": "ipython3",
   "version": "3.9.4"
  },
  "orig_nbformat": 4,
  "vscode": {
   "interpreter": {
    "hash": "4dcb06daf87d0588a14713ac9c655a46c30ed7eee687eb6e320f01c9e0bc4e8b"
   }
  }
 },
 "nbformat": 4,
 "nbformat_minor": 2
}
