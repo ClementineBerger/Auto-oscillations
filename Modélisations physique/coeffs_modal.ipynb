{
 "cells": [
  {
   "attachments": {},
   "cell_type": "markdown",
   "metadata": {},
   "source": [
    "# Calcul des coefficients de l'équation différentiel pour les $N$ premiers modes\n",
    "\n",
    "$$ \n",
    "\\Big( \\alpha_{2N} \\frac{d^{2N}}{dt^{2N}} + \\alpha_{2N-1} \\frac{d^{2N-1}}{dt^{2N-1}} + ... + \\alpha_{1} \\frac{d}{dt} + \\alpha_0 \\Big) p = \n",
    "    \\Big( \\beta_{2N-1} \\frac{d^{2N-1}}{dt^{2N-1}} + ... + \\beta_{1} \\frac{d}{dt} \\Big) u\n",
    "$$"
   ]
  },
  {
   "attachments": {},
   "cell_type": "markdown",
   "metadata": {},
   "source": [
    "## Dénominateur \n",
    "\n",
    "$$ D_N(j\\omega) = \\Pi_{n=1}^{2N} \\alpha_n (j\\omega)^n $$"
   ]
  },
  {
   "cell_type": "code",
   "execution_count": 2,
   "metadata": {},
   "outputs": [],
   "source": [
    "import numpy as np\n",
    "import matplotlib.pyplot as plt"
   ]
  },
  {
   "cell_type": "code",
   "execution_count": 5,
   "metadata": {},
   "outputs": [
    {
     "name": "stdout",
     "output_type": "stream",
     "text": [
      "0 0 0 3\n",
      "0 0 1 2\n",
      "0 0 2 1\n",
      "0 0 3 0\n",
      "0 1 0 2\n",
      "0 1 1 1\n",
      "0 1 2 0\n",
      "0 2 0 1\n",
      "0 2 1 0\n",
      "0 3 0 0\n",
      "1 0 0 2\n",
      "1 0 1 1\n",
      "1 0 2 0\n",
      "1 1 0 1\n",
      "1 1 1 0\n",
      "1 2 0 0\n",
      "2 0 0 1\n",
      "2 0 1 0\n",
      "2 1 0 0\n",
      "3 0 0 0\n"
     ]
    }
   ],
   "source": [
    "N = 4\n",
    "k = 3\n",
    "for i in range(k+1):\n",
    "    for j in range(k+1):\n",
    "        for l in range(k+1):\n",
    "            for m in range(k+1):\n",
    "                if i+j+l+m == k :\n",
    "                    print(i, j, l,m)"
   ]
  },
  {
   "attachments": {},
   "cell_type": "markdown",
   "metadata": {},
   "source": [
    "ça marche mais c'est moche et probablement long...\n",
    "\n",
    "Et comment on fait pour implémenter un nombre $N$ de boucles ? "
   ]
  },
  {
   "cell_type": "code",
   "execution_count": 13,
   "metadata": {},
   "outputs": [
    {
     "name": "stdout",
     "output_type": "stream",
     "text": [
      "[0. 0. 3.]\n",
      "[0. 1. 2.]\n",
      "[0. 2. 1.]\n",
      "[0. 3. 0.]\n",
      "[1. 0. 2.]\n",
      "[1. 1. 1.]\n",
      "[1. 2. 0.]\n",
      "[2. 0. 1.]\n",
      "[2. 1. 0.]\n",
      "[3. 0. 0.]\n",
      "[[0. 4. 3.]\n",
      " [0. 4. 0.]\n",
      " [0. 4. 0.]]\n"
     ]
    }
   ],
   "source": [
    "N = 3 \n",
    "k = 3\n",
    "B = np.zeros((N,3))\n",
    "B[:,1] = (k+1)*np.ones(N)\n",
    "#print(B)\n",
    "\n",
    "n = len(B) - 1\n",
    "boucle = True\n",
    "\n",
    "while boucle:\n",
    "    if np.sum(B[:,2])==k :\n",
    "        print(B[:,2])\n",
    "    \n",
    "    x=n \n",
    "    while True :\n",
    "        if x==0 and B[0,2]==B[0,1]-1:\n",
    "            boucle = False\n",
    "            break\n",
    "        B[x,2]+=1\n",
    "        if B[x,2]>=B[x,1]:\n",
    "            B[x,2] = 0\n",
    "        else :\n",
    "            break\n",
    "        x -= 1\n",
    "        \n",
    "#print(B)"
   ]
  },
  {
   "attachments": {},
   "cell_type": "markdown",
   "metadata": {},
   "source": [
    "Visiblement ça marche mais je comprends pas la forme finale de B..."
   ]
  },
  {
   "cell_type": "code",
   "execution_count": 32,
   "metadata": {},
   "outputs": [],
   "source": [
    "def indices_exposants(N,k):\n",
    "    \"\"\"\n",
    "    N : nombre de modes du guide considérés\n",
    "    k : coefficient d'ordre k dans le polynôme (degré de la dérivée)\n",
    "    \n",
    "    Renvoit la liste des combinaisons d'exposants nu tels que \n",
    "    w^nu1 x ... x w^nuN avec sum(nu_i) = k\n",
    "    \"\"\"\n",
    "    indices = []\n",
    "    B = np.zeros((N,3))\n",
    "    B[:,1] = (k+1)*np.ones(N)\n",
    "    #print(B)\n",
    "\n",
    "    n = len(B) - 1\n",
    "    boucle = True\n",
    "\n",
    "    while boucle:\n",
    "        if np.sum(B[:,2])==k :\n",
    "            indices.append(list(B[:,2]))\n",
    "        \n",
    "        x=n \n",
    "        while True :\n",
    "            if x==0 and B[0,2]==B[0,1]-1:\n",
    "                boucle = False\n",
    "                break\n",
    "            B[x,2]+=1\n",
    "            if B[x,2]>=B[x,1]:\n",
    "                B[x,2] = 0\n",
    "            else :\n",
    "                break\n",
    "            x -= 1\n",
    "            \n",
    "    indices = np.array(indices)\n",
    "    return indices"
   ]
  },
  {
   "cell_type": "code",
   "execution_count": 38,
   "metadata": {},
   "outputs": [],
   "source": [
    "N = 4   #nombre de modes\n",
    "\n",
    "f0 = 140\n",
    "omegas = np.array([i*f0*2*np.pi for i in range(1,N+1)])   # indices allant de 1 à N, à définir avec les valeurs voulues\n",
    "Qs = 0.5*np.ones(N+1)     # indices allant de 1 à N, à définir avec les valeurs voulues\n",
    "\n",
    "### Calcul des coefficients alpha\n",
    "alphas = np.zeros(2*N+1)\n",
    "alphas[0] = np.prod(omegas**2)\n",
    "alphas[-1] = 1\n",
    "\n",
    "for k in range(1,N):\n",
    "    indices = indices_exposants(N,k)\n",
    "    lines, columns = indices.shape\n",
    "    for r in range(lines):\n",
    "        alphas[k]+=np.prod(omegas**indices[r,:])\n",
    "        ones = np.where(indices[r,:]==1)[0]\n",
    "        alphas[k] /= np.prod(Qs[ones])"
   ]
  },
  {
   "cell_type": "code",
   "execution_count": 39,
   "metadata": {},
   "outputs": [],
   "source": [
    "def polynome(coeffs,x):\n",
    "    n = len(coeffs) # degré du polynôme -1\n",
    "    xlist = np.array([x**i for i in range(n)])\n",
    "    return np.sum(coeffs*xlist)"
   ]
  },
  {
   "cell_type": "code",
   "execution_count": 40,
   "metadata": {},
   "outputs": [],
   "source": [
    "x = np.linspace(0,2*np.pi,100)\n",
    "y = np.zeros_like(x)\n",
    "for i in range(len(x)):\n",
    "    y[i] = polynome(alphas,x[i])"
   ]
  }
 ],
 "metadata": {
  "kernelspec": {
   "display_name": "base",
   "language": "python",
   "name": "python3"
  },
  "language_info": {
   "codemirror_mode": {
    "name": "ipython",
    "version": 3
   },
   "file_extension": ".py",
   "mimetype": "text/x-python",
   "name": "python",
   "nbconvert_exporter": "python",
   "pygments_lexer": "ipython3",
   "version": "3.9.4"
  },
  "orig_nbformat": 4,
  "vscode": {
   "interpreter": {
    "hash": "4dcb06daf87d0588a14713ac9c655a46c30ed7eee687eb6e320f01c9e0bc4e8b"
   }
  }
 },
 "nbformat": 4,
 "nbformat_minor": 2
}
