{
 "cells": [
  {
   "cell_type": "code",
   "execution_count": 2,
   "metadata": {},
   "outputs": [],
   "source": [
    "import numpy as np\n",
    "import scipy.signal as sig"
   ]
  },
  {
   "cell_type": "code",
   "execution_count": 3,
   "metadata": {},
   "outputs": [],
   "source": [
    "def coeffs_modaux_bois(c0, l, rc, damping=False,ray=False):\n",
    "    \n",
    "    f = np.linspace(20, 10000, 5000)\n",
    "    om = 2*np.pi*f\n",
    "    k = om/c0\n",
    "    pi = np.pi\n",
    "    k = 2 * pi * f / c0\n",
    "    #Z_c = rho_air * c0 / S_cylinder\n",
    "    Z_c = 1  # car adimensionné ? \n",
    "    \n",
    "    if damping:\n",
    "        gamma = 1j * k + (1 + 1j) * 3e-5 * np.sqrt(f) / rc\n",
    "        A = np.cosh(gamma * l)\n",
    "        B = Z_c * np.sinh(gamma * l)\n",
    "        C = 1 / Z_c * np.sinh(gamma * l)\n",
    "        D = np.cosh(gamma * l)\n",
    "    else:\n",
    "        A = np.cos(k * l)\n",
    "        B = 1j * Z_c * np.sin(k * l)\n",
    "        C = 1j / Z_c * np.sin(k * l)\n",
    "        D = np.cos(k * l)\n",
    "        \n",
    "    if ray :\n",
    "        Z_L = np.square(k*rc)/4 + 1j*0.6*k*rc\n",
    "        p_end = 1\n",
    "        U_end = p_end/Z_L\n",
    "        p_0,U_0 = A*p_end+B*U_end, C*p_end+D*U_end\n",
    "        Ze = p_0/U_0\n",
    "    else :\n",
    "        Ze = B/D\n",
    "        \n",
    "    peaks,_ = sig.find_peaks(np.abs(Ze))\n",
    "\n",
    "    Ym = 1/np.abs(Ze)[peaks]\n",
    "    fr_m = f[peaks]\n",
    "    \n",
    "    Fm = 2*c0/l\n",
    "    \n",
    "    return Fm, Ym, fr_m"
   ]
  },
  {
   "cell_type": "code",
   "execution_count": 36,
   "metadata": {},
   "outputs": [],
   "source": [
    "c0 = 340\n",
    "# gamme chromatique qui part du do3\n",
    "frequencies = np.array([130.8, 138.5, 146.8, 155.5, 164.8, 174.6, 184.9, 195.9,207.6,220, 223,246.9, 261])\n",
    "# frequencies = np.array([261.63, 277.18, 293.66, 311.13, 329.63, 349.23, 369.99, 392.00, 145.3, 440, 466.16, 493.88])\n",
    "names = ['C2','D2b', 'D2','E2b','E2', 'F2', 'G2b', 'G2', 'A2b', 'A2', 'B2b', 'B2', 'C3']\n",
    "lengths = c0 / (4 * frequencies)\n",
    "rc = 0.02\n",
    "n_modes = 5\n",
    "\n",
    "file_content = \"\"\n",
    "coeffs = []\n",
    "for idx, l in enumerate(lengths):\n",
    "    Fm, Ym, fr_m = coeffs_modaux_bois(c0, l, rc)\n",
    "    Ym = Ym[:n_modes]\n",
    "    fr_m = fr_m[:n_modes]\n",
    "    file_content += f\"{names[idx]},\"\n",
    "    file_content += f\" {Fm:.4f} \"\n",
    "    for Y in Ym:\n",
    "        file_content += f\" {Y:.4f}\"\n",
    "    for freq in fr_m:\n",
    "        file_content += f\" {freq:.2f}\"\n",
    "    file_content += \";\\n\"\n",
    "\n",
    "fname=f\"coeffs_{n_modes}_modes.txt\"\n",
    "with open(fname, \"w\") as f:\n",
    "    f.write(file_content)    "
   ]
  }
 ],
 "metadata": {
  "kernelspec": {
   "display_name": "Python 3.9.13 ('atiam')",
   "language": "python",
   "name": "python3"
  },
  "language_info": {
   "codemirror_mode": {
    "name": "ipython",
    "version": 3
   },
   "file_extension": ".py",
   "mimetype": "text/x-python",
   "name": "python",
   "nbconvert_exporter": "python",
   "pygments_lexer": "ipython3",
   "version": "3.9.13"
  },
  "orig_nbformat": 4,
  "vscode": {
   "interpreter": {
    "hash": "140df1e290a6e11dadacb43496fe014a7eaf2b722414759b89751d77db66f772"
   }
  }
 },
 "nbformat": 4,
 "nbformat_minor": 2
}
