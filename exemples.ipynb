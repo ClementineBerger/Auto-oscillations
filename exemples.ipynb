{
 "cells": [
  {
   "cell_type": "code",
   "execution_count": 6,
   "metadata": {},
   "outputs": [],
   "source": [
    "import numpy as np\n",
    "import matplotlib.pyplot as plt\n",
    "import scipy.signal as sig\n",
    "from IPython.display import Audio\n",
    "import librosa as lib\n",
    "import modelisation_physique.guide_onde as go\n",
    "import modelisation_physique.Modele_modal_fct_rampe as mo\n",
    "import soundfile as sf"
   ]
  },
  {
   "cell_type": "code",
   "execution_count": 7,
   "metadata": {},
   "outputs": [],
   "source": [
    "#### Pour la clarinette\n",
    "\n",
    "gamma = 0.8\n",
    "zeta = 0.4\n",
    "\n",
    "gammas = [0.2, 0.3, 0.4,0.6,0.9]\n",
    "zetas = [0.2, 0.3, 0.6, 0.9]\n",
    "\n",
    "t_max = 2 \n",
    "sample_rate = 44100\n",
    "\n",
    "l = 60e-2\n",
    "rate_gauss = 0.08\n",
    "\n",
    "c0 = 340\n",
    "\n",
    "def audio_image(t_max, sample_rate,gamma,zeta):\n",
    "    Nsim = int(t_max*sample_rate)\n",
    "    tps = np.linspace(0,Nsim/sample_rate, Nsim)\n",
    "    p,_ = go.clarinette(t_max=t_max,sample_rate=sample_rate,gamma=gamma, zeta=zeta,type_reflection='gauss',l=l,c0=c0,rate_gauss=rate_gauss)\n",
    "    \n",
    "    fig, ax = plt.subplots(nrows=2,ncols=1,sharex=True, sharey=True,figsize=(15,6))\n",
    "    ax[0].plot(tps,p,color='indianred')\n",
    "    ax[0].set_xlim(0,0.5)\n",
    "    ax[0].set_ylabel(r\"$p$\",size=14)\n",
    "    ax[0].set_title(r\"Guide d'onde\",size=14)\n",
    "    \n",
    "    p2,_ = mo.simulation(tmax=t_max,nb_mode=2,instrument='clarinette',sample_rate=sample_rate, gamma_velo=gamma,zeta_force=zeta,durete_rampe=1,l_resonateur=l)\n",
    "\n",
    "    ax[1].plot(tps,p2,color='darkred')\n",
    "    ax[1].set_xlim(0,0.5)\n",
    "    ax[1].set_ylabel(r\"$p$\",size=14)\n",
    "    ax[1].set_xlabel(r\"Temps en s\",size=14)\n",
    "    ax[1].set_title(r\"Méthode modale\",size=14)\n",
    "    \n",
    "    fig.tight_layout()\n",
    "    \n",
    "    fig.savefig(\"audio/gamma\"+str(int(gamma*10))+\"_zeta\"+str(int(zeta*10))+\"_l\"+str(int(l*1e2))+\".pdf\", transparent=True,bbox_inches = \"tight\")\n",
    "    \n",
    "    sf.write(\"audio/GOgamma\"+str(int(gamma*10))+\"_zeta\"+str(int(zeta*10))+\"_l\"+str(int(l*1e2))+\".wav\",p,sample_rate)\n",
    "    sf.write(\"audio/MOgamma\"+str(int(gamma*10))+\"_zeta\"+str(int(zeta*10))+\"_l\"+str(int(l*1e2))+\".wav\",p2,sample_rate)\n",
    "    \n",
    "    return \"done !\""
   ]
  },
  {
   "cell_type": "code",
   "execution_count": 9,
   "metadata": {},
   "outputs": [
    {
     "data": {
      "text/plain": [
       "'done !'"
      ]
     },
     "execution_count": 9,
     "metadata": {},
     "output_type": "execute_result"
    }
   ],
   "source": [
    "audio_image(t_max=t_max,sample_rate=sample_rate,gamma=0.9,zeta=0.4)"
   ]
  },
  {
   "cell_type": "code",
   "execution_count": null,
   "metadata": {},
   "outputs": [],
   "source": [
    "c0/4/l"
   ]
  },
  {
   "cell_type": "code",
   "execution_count": null,
   "metadata": {},
   "outputs": [],
   "source": []
  }
 ],
 "metadata": {
  "kernelspec": {
   "display_name": "base",
   "language": "python",
   "name": "python3"
  },
  "language_info": {
   "codemirror_mode": {
    "name": "ipython",
    "version": 3
   },
   "file_extension": ".py",
   "mimetype": "text/x-python",
   "name": "python",
   "nbconvert_exporter": "python",
   "pygments_lexer": "ipython3",
   "version": "3.9.13"
  },
  "orig_nbformat": 4,
  "vscode": {
   "interpreter": {
    "hash": "a2b55bbd9e369600253f170ac926962b21ab5d55cd13855705ea6451090e3b49"
   }
  }
 },
 "nbformat": 4,
 "nbformat_minor": 2
}
