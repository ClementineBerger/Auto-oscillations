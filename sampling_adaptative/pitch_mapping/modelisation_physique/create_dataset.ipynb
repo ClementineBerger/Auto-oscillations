{
 "cells": [
  {
   "cell_type": "markdown",
   "metadata": {},
   "source": [
    "# Create a big dataset once and for all"
   ]
  },
  {
   "cell_type": "code",
   "execution_count": 11,
   "metadata": {},
   "outputs": [],
   "source": [
    "import os\n",
    "from multiprocessing import Process, Array\n",
    "from pathlib import Path\n",
    "\n",
    "import librosa\n",
    "import librosa.display\n",
    "import matplotlib\n",
    "import matplotlib.pyplot as plt\n",
    "import numpy as np\n",
    "import soundfile as sf\n",
    "from doepy import build\n",
    "from mpl_toolkits.axes_grid1 import ImageGrid\n",
    "from sklearn.inspection import DecisionBoundaryDisplay\n",
    "from sklearn.svm import SVC\n",
    "from tqdm.auto import tqdm\n",
    "\n",
    "from modelisation_physique.mvt_Helmholtz import simulation"
   ]
  },
  {
   "cell_type": "code",
   "execution_count": 8,
   "metadata": {},
   "outputs": [
    {
     "name": "stdout",
     "output_type": "stream",
     "text": [
      "The length of the cylinder goes from 1.1077226913647507 to 1.3494954899862408\n"
     ]
    }
   ],
   "source": [
    "sim_length = 0.3\n",
    "sample_rate = 22050\n",
    "num_samples = 10000\n",
    "celerity = 340\n",
    "osc_threshold = 0.15  # threshold to decide whether there are oscillations or not\n",
    "l2_penalty = 100  # L2 Penalty for the SVM optimization\n",
    "epsilon_length = 0.05  # meters\n",
    "\n",
    "# Full octave from C0 to B0\n",
    "# note_frequencies = [65.41, 69.3, 73.42, 77.78, 82.41, 87.31, 92.5, 98, 103.83, 110, 116.54, 123.47]\n",
    "\n",
    "note_frequencies = [65.41, 69.3, 73.42]\n",
    "\n",
    "length_min = celerity / (4 * note_frequencies[-1]) - epsilon_length\n",
    "length_max = celerity / (4 * note_frequencies[0]) + epsilon_length\n",
    "\n",
    "print(f\"The length of the cylinder goes from {length_min} to {length_max}\")"
   ]
  },
  {
   "cell_type": "code",
   "execution_count": 9,
   "metadata": {},
   "outputs": [],
   "source": [
    "zeta = 0.5\n",
    "parameters = build.space_filling_lhs(\n",
    "    {\"gamma\": [0, 1], \n",
    "     \"length_cylinder\": [length_min, length_max]},\n",
    "    num_samples=num_samples\n",
    ")"
   ]
  },
  {
   "cell_type": "markdown",
   "metadata": {},
   "source": [
    "Let's go"
   ]
  },
  {
   "cell_type": "code",
   "execution_count": 13,
   "metadata": {},
   "outputs": [
    {
     "ename": "TypeError",
     "evalue": "expected a sequence of integers or a single integer, got '66150000.0'",
     "output_type": "error",
     "traceback": [
      "\u001b[0;31m---------------------------------------------------------------------------\u001b[0m",
      "\u001b[0;31mTypeError\u001b[0m                                 Traceback (most recent call last)",
      "Cell \u001b[0;32mIn [13], line 4\u001b[0m\n\u001b[1;32m      1\u001b[0m data_folder \u001b[38;5;241m=\u001b[39m Path(\u001b[38;5;124m\"\u001b[39m\u001b[38;5;124m./data\u001b[39m\u001b[38;5;124m\"\u001b[39m)\n\u001b[1;32m      2\u001b[0m data_folder\u001b[38;5;241m.\u001b[39mmkdir()\n\u001b[0;32m----> 4\u001b[0m data \u001b[38;5;241m=\u001b[39m \u001b[43mnp\u001b[49m\u001b[38;5;241;43m.\u001b[39;49m\u001b[43mones\u001b[49m\u001b[43m(\u001b[49m\u001b[43mnum_samples\u001b[49m\u001b[43m \u001b[49m\u001b[38;5;241;43m*\u001b[39;49m\u001b[43m \u001b[49m\u001b[43msim_length\u001b[49m\u001b[43m \u001b[49m\u001b[38;5;241;43m*\u001b[39;49m\u001b[43m \u001b[49m\u001b[43msample_rate\u001b[49m\u001b[43m)\u001b[49m\n\u001b[1;32m      5\u001b[0m shared_array \u001b[38;5;241m=\u001b[39m Array(\u001b[38;5;124m\"\u001b[39m\u001b[38;5;124md\u001b[39m\u001b[38;5;124m\"\u001b[39m, data)\n\u001b[1;32m      7\u001b[0m \u001b[38;5;28;01mdef\u001b[39;00m \u001b[38;5;21mrun_simulation\u001b[39m(shared_array, index, gamma, length_cylinder):\n",
      "File \u001b[0;32m~/anaconda3/envs/atiam/lib/python3.9/site-packages/numpy/core/numeric.py:204\u001b[0m, in \u001b[0;36mones\u001b[0;34m(shape, dtype, order, like)\u001b[0m\n\u001b[1;32m    201\u001b[0m \u001b[39mif\u001b[39;00m like \u001b[39mis\u001b[39;00m \u001b[39mnot\u001b[39;00m \u001b[39mNone\u001b[39;00m:\n\u001b[1;32m    202\u001b[0m     \u001b[39mreturn\u001b[39;00m _ones_with_like(shape, dtype\u001b[39m=\u001b[39mdtype, order\u001b[39m=\u001b[39morder, like\u001b[39m=\u001b[39mlike)\n\u001b[0;32m--> 204\u001b[0m a \u001b[39m=\u001b[39m empty(shape, dtype, order)\n\u001b[1;32m    205\u001b[0m multiarray\u001b[39m.\u001b[39mcopyto(a, \u001b[39m1\u001b[39m, casting\u001b[39m=\u001b[39m\u001b[39m'\u001b[39m\u001b[39munsafe\u001b[39m\u001b[39m'\u001b[39m)\n\u001b[1;32m    206\u001b[0m \u001b[39mreturn\u001b[39;00m a\n",
      "\u001b[0;31mTypeError\u001b[0m: expected a sequence of integers or a single integer, got '66150000.0'"
     ]
    }
   ],
   "source": [
    "data_folder = Path(\"./data\")\n",
    "data_folder.mkdir()\n",
    "\n",
    "data = np.zeros(num_samples * sim_length * sample_rate)\n",
    "shared_array = Array(\"d\", data)\n",
    "\n",
    "def run_simulation(shared_array, index, gamma, length_cylinder):\n",
    "    waveform, _ = simulation(sim_length, sample_rate, gamma, zeta, length_cylinder, celerity)\n",
    "    start = index * sim_length * sample_rate\n",
    "    stop = (index + 1) * sim_length * sample_rate\n",
    "    shared_array[start:stop] = waveform\n",
    "    \n",
    "# Instantiate all processes\n",
    "procs = []\n",
    "for idx, x in tqdm(parameters.iterrows()):\n",
    "    proc = Process(target=run_simulation, args=(shared_array, idx, x[\"gamma\"], x[\"length_cylinder\"]))\n",
    "    procs.append(proc)\n",
    "    proc.start()\n",
    "    \n",
    "# Run all the processes\n",
    "for proc in procs:\n",
    "    proc.join()\n",
    "\n",
    "np.save(data_folder.joinpath(\"data.npy\"), np.frombuffer(shared_array.get_obj()).reshape((num_samples, -1)))"
   ]
  }
 ],
 "metadata": {
  "kernelspec": {
   "display_name": "Python 3.9.0 ('atiam')",
   "language": "python",
   "name": "python3"
  },
  "language_info": {
   "codemirror_mode": {
    "name": "ipython",
    "version": 3
   },
   "file_extension": ".py",
   "mimetype": "text/x-python",
   "name": "python",
   "nbconvert_exporter": "python",
   "pygments_lexer": "ipython3",
   "version": "3.9.0"
  },
  "orig_nbformat": 4,
  "vscode": {
   "interpreter": {
    "hash": "d8f7214fd50ef9175146f5d7c8c34da49bac8bf9c7f7237ea9c7329e7f70f6e8"
   }
  }
 },
 "nbformat": 4,
 "nbformat_minor": 2
}
