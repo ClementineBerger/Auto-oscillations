{
 "cells": [
  {
   "attachments": {},
   "cell_type": "markdown",
   "metadata": {},
   "source": [
    "# Modèle guide d'onde de McIntyre\n"
   ]
  },
  {
   "cell_type": "code",
   "execution_count": 8,
   "metadata": {},
   "outputs": [],
   "source": [
    "import numpy as np\n",
    "import matplotlib.pyplot as plt\n",
    "from mvt_Helmholtz import *\n",
    "import scipy.optimize as opt\n",
    "import scipy.signal as sig"
   ]
  },
  {
   "attachments": {},
   "cell_type": "markdown",
   "metadata": {},
   "source": [
    "$r(t-T) = -\\alpha \\delta(t-T)$"
   ]
  },
  {
   "cell_type": "code",
   "execution_count": 2,
   "metadata": {},
   "outputs": [],
   "source": [
    "def retardT(L,c):\n",
    "    '''Renvoie T le retard accumulé par l'onde\n",
    "    en un aller-retour\n",
    "    L : longueur du guide cylindrique\n",
    "    c : célérité des ondes dans l'air\n",
    "    '''\n",
    "    return 2*L/c\n",
    "\n",
    "def r_T(t,T,alpha):\n",
    "    #if abs(t-T)<1e-8:\n",
    "    #    return -alpha\n",
    "    #else :\n",
    "    #    return 0 \n",
    "    return -alpha*np.exp(-(t-T)**2)\n",
    "    \n",
    "def coeffs(gamma,zeta):\n",
    "    '''Calcule les coefficients de la fonction de\n",
    "    couplage F linéarisée\n",
    "    F(p) = F0 + Ap + Bp**2 + Cp**3\n",
    "    '''\n",
    "    if gamma == 0:\n",
    "        return 0, 0, 0, 0\n",
    "    else :\n",
    "        F0 = zeta*(1-gamma)*np.sqrt(gamma)\n",
    "        A = zeta*(3 * gamma - 1) / 2 /np.sqrt(gamma)\n",
    "        B = -zeta*(3*gamma+1)/8/gamma**(3/2)\n",
    "        C = -zeta*(gamma+1)/16/gamma**(5/2)\n",
    "    return F0,A,B,C\n",
    "    \n",
    "def F(p, gamma, zeta):\n",
    "    '''Renvoit le débit u suivant la pression p\n",
    "    suivant la relation u = F(p)'''\n",
    "    if gamma == 0:\n",
    "        return 0\n",
    "    if gamma - p >= 1 or gamma - p < 0:\n",
    "        return 0\n",
    "    else:\n",
    "        return zeta * (1 - gamma + p) * np.sqrt(gamma - p)"
   ]
  },
  {
   "cell_type": "code",
   "execution_count": 3,
   "metadata": {},
   "outputs": [],
   "source": [
    "fe = 16000\n",
    "\n",
    "L = 60e-2\n",
    "c = 344\n",
    "t_max = 0.5\n",
    "rho = 1.292  # Masse vol air\n",
    "r = 3e-2  # rayon de la clarinette\n",
    "S = np.pi * r**2  # section clarinette\n",
    "\n",
    "T = retardT(L,c)\n",
    "\n",
    "compute_time = np.arange(int(t_max / T)) * T  # temps de calcul de l'amplitude\n",
    "sim_time = (np.arange(int(t_max * fe)) / fe)  # temps de \"remplissage\" pour avoir un signal carré\n",
    "\n",
    "Ncompute = len(compute_time)\n",
    "Nsim = len(sim_time)"
   ]
  },
  {
   "cell_type": "code",
   "execution_count": 4,
   "metadata": {},
   "outputs": [],
   "source": [
    "def tableau_F(pmin,pmax,nb_pts,gamma,zeta):\n",
    "    tab_p = np.linspace(pmin,pmax,nb_pts)\n",
    "    tab_F = np.zeros_like(tab_p)\n",
    "    for i in range(nb_pts):\n",
    "        tab_F[i] = F(tab_p[i],gamma,zeta)\n",
    "    return tab_p, tab_F\n",
    "\n",
    "\n",
    "def find_zero(tableau, i):\n",
    "    \"\"\"\n",
    "    Recherche le point d'annulation de tableau le plus proche possible de i\n",
    "    \n",
    "    tableau = tableau des valeurs de la fonction F sur l'intervalle souhaité\n",
    "    i =  \n",
    "    \"\"\"\n",
    "    l = len(tableau)\n",
    "    changement_signe = tableau[0:l-1]*tableau[1:l] # il y a un point d'annulation entre tableau[j] et tableau[j+1] ssi tableau[j]*tableau[j+1] <= 0\n",
    "    negatif = changement_signe <= 0 # True aux indices où il y a un changement de signe\n",
    "    tab_i0 = (np.arange(l-1))[negatif] # indices auxquels il y a un changement de signe\n",
    "    if len(tab_i0)==0:\n",
    "        return np.argmin(np.abs(tableau))\n",
    "    i0 = np.argmin(np.abs(tab_i0-i)) # indice de l'indice le plus proche de i dans tab_i0\n",
    "    return tab_i0[i0]"
   ]
  },
  {
   "cell_type": "code",
   "execution_count": 14,
   "metadata": {},
   "outputs": [
    {
     "data": {
      "text/plain": [
       "[<matplotlib.lines.Line2D at 0x2a03d3881c0>]"
      ]
     },
     "execution_count": 14,
     "metadata": {},
     "output_type": "execute_result"
    },
    {
     "data": {
      "image/png": "[encoded data removed]",
      "text/plain": [
       "<Figure size 432x288 with 1 Axes>"
      ]
     },
     "metadata": {
      "needs_background": "light"
     },
     "output_type": "display_data"
    }
   ],
   "source": [
    "#p = np.zeros_like(compute_time)\n",
    "#u = np.zeros_like(compute_time)\n",
    "\n",
    "p = np.zeros_like(sim_time)\n",
    "u = np.zeros_like(sim_time)\n",
    "\n",
    "indT = int(T*fe)\n",
    "\n",
    "gamma = 0.9\n",
    "zeta = 0.3\n",
    "tab_p, tab_F = tableau_F(-5,5,2000,gamma,zeta)\n",
    "solvF = tab_p - tab_F\n",
    "\n",
    "i_act = np.argmin(np.abs(tab_p-gamma)) + 1\n",
    "\n",
    "#r_dt = np.array([0,0,-1])\n",
    "\n",
    "for j in range(len(p)):  # cas avec dirac en réflexion\n",
    "    \n",
    "    #if j < indT+1:\n",
    "    #    ph = -(p[0]+u[0]) \n",
    "    #else:\n",
    "    #    ph = -(p[j-indT]+u[j-indT]) \n",
    "    x1 = p[0:j+1]+u[0:j+1]\n",
    "    x2 = r_T(sim_time[0:j+1],T,alpha=-0.99)\n",
    "    ph = sig.convolve(x1,x2,mode='full',method='fft')[j]\n",
    "    i = find_zero(solvF-ph,i_act)\n",
    "    i_act = i\n",
    "    p[j] = tab_p[i]\n",
    "    u[j] = tab_F[i]\n",
    "    \n",
    "#p_final = np.zeros(len(sim_time))\n",
    "#u_final = np.zeros(len(sim_time))\n",
    "#i = 0\n",
    "#ind = 0\n",
    "#while i < Nsim and ind < Ncompute:\n",
    "#    p_final[i] = p[ind]\n",
    "#    u_final[i] = u[ind]\n",
    "#    i += 1\n",
    "#    time = i / fe\n",
    "#    ind = int(time // T)\n",
    "    \n",
    "plt.plot(sim_time,p)\n",
    "#plt.xlim(0,0.2)\n",
    "#plt.ylim(-1.1, 1.1)"
   ]
  },
  {
   "attachments": {},
   "cell_type": "markdown",
   "metadata": {},
   "source": [
    "Code à modifier : pour intégrer une vraie convolution (pour pouvoir changer la fonction de réflexion), et donc il faut faire le calcul sur les dt plus petits que T."
   ]
  },
  {
   "cell_type": "code",
   "execution_count": null,
   "metadata": {},
   "outputs": [],
   "source": []
  }
 ],
 "metadata": {
  "kernelspec": {
   "display_name": "base",
   "language": "python",
   "name": "python3"
  },
  "language_info": {
   "codemirror_mode": {
    "name": "ipython",
    "version": 3
   },
   "file_extension": ".py",
   "mimetype": "text/x-python",
   "name": "python",
   "nbconvert_exporter": "python",
   "pygments_lexer": "ipython3",
   "version": "3.9.4 (default, Apr  9 2021, 11:43:21) [MSC v.1916 64 bit (AMD64)]"
  },
  "orig_nbformat": 4,
  "vscode": {
   "interpreter": {
    "hash": "4dcb06daf87d0588a14713ac9c655a46c30ed7eee687eb6e320f01c9e0bc4e8b"
   }
  }
 },
 "nbformat": 4,
 "nbformat_minor": 2
}
